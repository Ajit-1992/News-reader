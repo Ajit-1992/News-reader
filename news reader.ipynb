{
 "cells": [
  {
   "cell_type": "markdown",
   "metadata": {},
   "source": [
    "# News Reader "
   ]
  },
  {
   "cell_type": "code",
   "execution_count": null,
   "metadata": {},
   "outputs": [],
   "source": [
    "# this programme reads top 5 news in any section you choose"
   ]
  },
  {
   "cell_type": "code",
   "execution_count": 1,
   "metadata": {},
   "outputs": [],
   "source": [
    "import requests as re\n",
    "import json\n",
    "from win32com.client import Dispatch # use pip install pywin32 command for installing package in command prompt"
   ]
  },
  {
   "cell_type": "code",
   "execution_count": 2,
   "metadata": {},
   "outputs": [],
   "source": [
    "def speak(s): # This function gives output in audio format \n",
    "    \n",
    "    speak = Dispatch('SAPI.Spvoice')\n",
    "    speak.speak(s)"
   ]
  },
  {
   "cell_type": "code",
   "execution_count": 3,
   "metadata": {},
   "outputs": [],
   "source": [
    "def news_feed(news_api): # this funtion takes Apikey as argument and speaks provided content  \n",
    "    \n",
    "    news = re.get(news_api)\n",
    "    \n",
    "#     print(news.status_code)\n",
    "    final = news.text\n",
    "    \n",
    "    news = json.loads(final)\n",
    "    \n",
    "    news = news['articles']\n",
    "    \n",
    "    for i in range(1,6):\n",
    "        \n",
    "        print(f'{i}.',news[i]['title'])\n",
    "        speak(news[i]['title'])\n",
    "            \n",
    "        print()\n",
    "    "
   ]
  },
  {
   "cell_type": "code",
   "execution_count": 4,
   "metadata": {},
   "outputs": [],
   "source": [
    "# news_feed(\"http://newsapi.org/v2/top-headlines?country=in&apiKey=116376fe1c4b4b8cb92417f6dc62ac39\")"
   ]
  },
  {
   "cell_type": "code",
   "execution_count": 5,
   "metadata": {},
   "outputs": [
    {
     "name": "stdout",
     "output_type": "stream",
     "text": [
      "\n",
      "************************************* welcome to news speaker *************************************\n",
      "\n",
      "****************************************************************************************************\n",
      "press 1 for business related news\n",
      "press 2 for entertainment related news\n",
      "press 3 for health related news\n",
      "press 4 for science related news\n",
      "press 5 for sports related news\n",
      "press 6 for technology related news\n",
      "press 7 for exit\n",
      "\n",
      "please enter your choice in numbers :5\n",
      "\n",
      "----------------------------------------------------------------------------------------------------\n",
      "\n",
      "**************************************** Sports news ****************************************\n",
      "\n",
      "1. Training | Donny van de Beek, Bruno Fernandes & the lads train ahead of season opener v Palace - Manchester United\n",
      "\n",
      "2. England vs Australia 3rd ODI Live Cricket Score Updates: Starc strikes twice in 1st over - The Indian Express\n",
      "\n",
      "3. Luis Suarez not included in Barcelona squad for Girona friendly - Barca Blaugranes\n",
      "\n",
      "4. Losing 2007 T20 World Cup final to India will hurt till my last breath: Pakistan opener Imran Nazir - Hindustan Times\n",
      "\n",
      "5. CSK waiting for BCCI medical team to clear Ruturaj Gaikwad - Cricbuzz - Cricbuzz\n",
      "\n",
      "====================================================================================================\n",
      "\n",
      "************************************* welcome to news speaker *************************************\n",
      "\n",
      "****************************************************************************************************\n",
      "press 1 for business related news\n",
      "press 2 for entertainment related news\n",
      "press 3 for health related news\n",
      "press 4 for science related news\n",
      "press 5 for sports related news\n",
      "press 6 for technology related news\n",
      "press 7 for exit\n",
      "\n",
      "please enter your choice in numbers :7\n",
      "\n",
      "----------------------------------------------------------------------------------------------------\n",
      "\n"
     ]
    }
   ],
   "source": [
    "\n",
    "while True:\n",
    "    \n",
    "    print()\n",
    "    print( '*'*37,'welcome to news speaker','*'*37)\n",
    "    print()\n",
    "    print('*' * 100)\n",
    "\n",
    "    print('press 1 for business related news')\n",
    "    print('press 2 for entertainment related news')\n",
    "    print('press 3 for health related news')\n",
    "    print('press 4 for science related news')\n",
    "    print('press 5 for sports related news')\n",
    "    print('press 6 for technology related news')\n",
    "    print('press 7 for exit')\n",
    "    print()\n",
    "\n",
    "\n",
    "\n",
    "    user_input = input(\"please enter your choice in numbers :\")\n",
    "    \n",
    "    print()\n",
    "    print('-'*100)\n",
    "    print()\n",
    "\n",
    "    if user_input == '1':\n",
    "        print( '*'*40,'Buisness news','*'*40)\n",
    "        print()\n",
    "        news_feed('http://newsapi.org/v2/top-headlines?country=in&category=business&apiKey=116376fe1c4b4b8cb92417f6dc62ac39')\n",
    "\n",
    "    if user_input == '2':\n",
    "        print( '*'*40,'Entertainment news','*'*40)\n",
    "        print()\n",
    "        news_feed('http://newsapi.org/v2/top-headlines?country=in&category=entertainment&apiKey=116376fe1c4b4b8cb92417f6dc62ac39')\n",
    "\n",
    "    if user_input == '3':\n",
    "        print( '*'*40,'Health news','*'*40)\n",
    "        print()\n",
    "        news_feed('http://newsapi.org/v2/top-headlines?country=in&category=health&apiKey=116376fe1c4b4b8cb92417f6dc62ac39')\n",
    "\n",
    "    if user_input == '4':\n",
    "        print( '*'*40,'Science news','*'*40)\n",
    "        print()\n",
    "        news_feed('http://newsapi.org/v2/top-headlines?country=in&category=science&apiKey=116376fe1c4b4b8cb92417f6dc62ac39')\n",
    "\n",
    "    if user_input == '5':\n",
    "        print( '*'*40,'Sports news','*'*40)\n",
    "        print()\n",
    "        news_feed('http://newsapi.org/v2/top-headlines?country=in&category=sports&apiKey=116376fe1c4b4b8cb92417f6dc62ac39')\n",
    "\n",
    "    if user_input == '6':\n",
    "        print( '*'*40,'Technology news','*'*40)\n",
    "        print()\n",
    "        news_feed('http://newsapi.org/v2/top-headlines?country=in&category=technology&apiKey=116376fe1c4b4b8cb92417f6dc62ac39')\n",
    "    \n",
    "    if user_input == '7':\n",
    "        break\n",
    "        \n",
    "    if user_input not in ['1','2','3','4','5','6','7']:\n",
    "        continue\n",
    "        \n",
    "        \n",
    "    print('='*100)"
   ]
  },
  {
   "cell_type": "code",
   "execution_count": null,
   "metadata": {},
   "outputs": [],
   "source": []
  },
  {
   "cell_type": "code",
   "execution_count": null,
   "metadata": {},
   "outputs": [],
   "source": []
  }
 ],
 "metadata": {
  "kernelspec": {
   "display_name": "Python 3",
   "language": "python",
   "name": "python3"
  },
  "language_info": {
   "codemirror_mode": {
    "name": "ipython",
    "version": 3
   },
   "file_extension": ".py",
   "mimetype": "text/x-python",
   "name": "python",
   "nbconvert_exporter": "python",
   "pygments_lexer": "ipython3",
   "version": "3.7.6"
  }
 },
 "nbformat": 4,
 "nbformat_minor": 4
}
